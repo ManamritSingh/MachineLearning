{
  "nbformat": 4,
  "nbformat_minor": 0,
  "metadata": {
    "colab": {
      "provenance": []
    },
    "kernelspec": {
      "name": "python3",
      "display_name": "Python 3"
    },
    "language_info": {
      "name": "python"
    },
    "accelerator": "GPU",
    "gpuClass": "standard"
  },
  "cells": [
    {
      "cell_type": "code",
      "execution_count": 1,
      "metadata": {
        "colab": {
          "base_uri": "https://localhost:8080/"
        },
        "id": "ljGRC43AnvjF",
        "outputId": "5f5bfd34-fc5b-479f-9b48-d7ebad754c5b"
      },
      "outputs": [
        {
          "output_type": "stream",
          "name": "stdout",
          "text": [
            "Looking in indexes: https://pypi.org/simple, https://us-python.pkg.dev/colab-wheels/public/simple/, https://pypi.nvidia.com\n",
            "Requirement already satisfied: cudf-cu11 in /usr/local/lib/python3.8/dist-packages (23.2.0)\n",
            "Requirement already satisfied: dask-cudf-cu11 in /usr/local/lib/python3.8/dist-packages (23.2.0)\n",
            "Requirement already satisfied: cupy-cuda11x in /usr/local/lib/python3.8/dist-packages (from cudf-cu11) (11.0.0)\n",
            "Requirement already satisfied: nvtx>=0.2.1 in /usr/local/lib/python3.8/dist-packages (from cudf-cu11) (0.2.5)\n",
            "Requirement already satisfied: cachetools in /usr/local/lib/python3.8/dist-packages (from cudf-cu11) (5.3.0)\n",
            "Requirement already satisfied: cubinlinker-cu11 in /usr/local/lib/python3.8/dist-packages (from cudf-cu11) (0.3.0.post1)\n",
            "Requirement already satisfied: numba>=0.56.2 in /usr/local/lib/python3.8/dist-packages (from cudf-cu11) (0.56.4)\n",
            "Requirement already satisfied: rmm-cu11==23.2.* in /usr/local/lib/python3.8/dist-packages (from cudf-cu11) (23.2.0)\n",
            "Requirement already satisfied: packaging in /usr/local/lib/python3.8/dist-packages (from cudf-cu11) (23.0)\n",
            "Requirement already satisfied: numpy in /usr/local/lib/python3.8/dist-packages (from cudf-cu11) (1.22.4)\n",
            "Requirement already satisfied: cuda-python<12.0,>=11.7.1 in /usr/local/lib/python3.8/dist-packages (from cudf-cu11) (11.8.1)\n",
            "Requirement already satisfied: fsspec>=0.6.0 in /usr/local/lib/python3.8/dist-packages (from cudf-cu11) (2023.1.0)\n",
            "Requirement already satisfied: protobuf==4.21 in /usr/local/lib/python3.8/dist-packages (from cudf-cu11) (4.21.0)\n",
            "Requirement already satisfied: pyarrow==10 in /usr/local/lib/python3.8/dist-packages (from cudf-cu11) (10.0.0)\n",
            "Requirement already satisfied: pandas<1.6.0dev0,>=1.0 in /usr/local/lib/python3.8/dist-packages (from cudf-cu11) (1.3.5)\n",
            "Requirement already satisfied: typing-extensions in /usr/local/lib/python3.8/dist-packages (from cudf-cu11) (4.5.0)\n",
            "Requirement already satisfied: ptxcompiler-cu11 in /usr/local/lib/python3.8/dist-packages (from cudf-cu11) (0.7.0.post1)\n",
            "Requirement already satisfied: distributed==2023.1.1 in /usr/local/lib/python3.8/dist-packages (from dask-cudf-cu11) (2023.1.1)\n",
            "Requirement already satisfied: dask==2023.1.1 in /usr/local/lib/python3.8/dist-packages (from dask-cudf-cu11) (2023.1.1)\n",
            "Requirement already satisfied: cloudpickle>=1.1.1 in /usr/local/lib/python3.8/dist-packages (from dask==2023.1.1->dask-cudf-cu11) (2.2.1)\n",
            "Requirement already satisfied: toolz>=0.8.2 in /usr/local/lib/python3.8/dist-packages (from dask==2023.1.1->dask-cudf-cu11) (0.12.0)\n",
            "Requirement already satisfied: pyyaml>=5.3.1 in /usr/local/lib/python3.8/dist-packages (from dask==2023.1.1->dask-cudf-cu11) (6.0)\n",
            "Requirement already satisfied: partd>=0.3.10 in /usr/local/lib/python3.8/dist-packages (from dask==2023.1.1->dask-cudf-cu11) (1.3.0)\n",
            "Requirement already satisfied: click>=7.0 in /usr/local/lib/python3.8/dist-packages (from dask==2023.1.1->dask-cudf-cu11) (8.1.3)\n",
            "Requirement already satisfied: zict>=2.1.0 in /usr/local/lib/python3.8/dist-packages (from distributed==2023.1.1->dask-cudf-cu11) (2.2.0)\n",
            "Requirement already satisfied: psutil>=5.7.0 in /usr/local/lib/python3.8/dist-packages (from distributed==2023.1.1->dask-cudf-cu11) (5.9.4)\n",
            "Requirement already satisfied: urllib3>=1.24.3 in /usr/local/lib/python3.8/dist-packages (from distributed==2023.1.1->dask-cudf-cu11) (1.26.14)\n",
            "Requirement already satisfied: locket>=1.0.0 in /usr/local/lib/python3.8/dist-packages (from distributed==2023.1.1->dask-cudf-cu11) (1.0.0)\n",
            "Requirement already satisfied: jinja2>=2.10.3 in /usr/local/lib/python3.8/dist-packages (from distributed==2023.1.1->dask-cudf-cu11) (3.1.2)\n",
            "Requirement already satisfied: tornado>=6.0.3 in /usr/local/lib/python3.8/dist-packages (from distributed==2023.1.1->dask-cudf-cu11) (6.2)\n",
            "Requirement already satisfied: tblib>=1.6.0 in /usr/local/lib/python3.8/dist-packages (from distributed==2023.1.1->dask-cudf-cu11) (1.7.0)\n",
            "Requirement already satisfied: sortedcontainers>=2.0.5 in /usr/local/lib/python3.8/dist-packages (from distributed==2023.1.1->dask-cudf-cu11) (2.4.0)\n",
            "Requirement already satisfied: msgpack>=1.0.0 in /usr/local/lib/python3.8/dist-packages (from distributed==2023.1.1->dask-cudf-cu11) (1.0.4)\n",
            "Requirement already satisfied: cython in /usr/local/lib/python3.8/dist-packages (from cuda-python<12.0,>=11.7.1->cudf-cu11) (0.29.33)\n",
            "Requirement already satisfied: llvmlite<0.40,>=0.39.0dev0 in /usr/local/lib/python3.8/dist-packages (from numba>=0.56.2->cudf-cu11) (0.39.1)\n",
            "Requirement already satisfied: setuptools in /usr/local/lib/python3.8/dist-packages (from numba>=0.56.2->cudf-cu11) (57.4.0)\n",
            "Requirement already satisfied: importlib-metadata in /usr/local/lib/python3.8/dist-packages (from numba>=0.56.2->cudf-cu11) (6.0.0)\n",
            "Requirement already satisfied: python-dateutil>=2.7.3 in /usr/local/lib/python3.8/dist-packages (from pandas<1.6.0dev0,>=1.0->cudf-cu11) (2.8.2)\n",
            "Requirement already satisfied: pytz>=2017.3 in /usr/local/lib/python3.8/dist-packages (from pandas<1.6.0dev0,>=1.0->cudf-cu11) (2022.7.1)\n",
            "Requirement already satisfied: fastrlock>=0.5 in /usr/local/lib/python3.8/dist-packages (from cupy-cuda11x->cudf-cu11) (0.8.1)\n",
            "Requirement already satisfied: MarkupSafe>=2.0 in /usr/local/lib/python3.8/dist-packages (from jinja2>=2.10.3->distributed==2023.1.1->dask-cudf-cu11) (2.1.2)\n",
            "Requirement already satisfied: six>=1.5 in /usr/local/lib/python3.8/dist-packages (from python-dateutil>=2.7.3->pandas<1.6.0dev0,>=1.0->cudf-cu11) (1.15.0)\n",
            "Requirement already satisfied: heapdict in /usr/local/lib/python3.8/dist-packages (from zict>=2.1.0->distributed==2023.1.1->dask-cudf-cu11) (1.0.1)\n",
            "Requirement already satisfied: zipp>=0.5 in /usr/local/lib/python3.8/dist-packages (from importlib-metadata->numba>=0.56.2->cudf-cu11) (3.15.0)\n"
          ]
        }
      ],
      "source": [
        "!pip install cudf-cu11 dask-cudf-cu11 --extra-index-url=https://pypi.nvidia.com"
      ]
    },
    {
      "cell_type": "code",
      "source": [
        "!pip install cuml-cu11 --extra-index-url=https://pypi.nvidia.com"
      ],
      "metadata": {
        "colab": {
          "base_uri": "https://localhost:8080/"
        },
        "id": "HUhjExUso3Xf",
        "outputId": "618ffbaf-9f81-48e2-e177-aec7a7f97642"
      },
      "execution_count": 2,
      "outputs": [
        {
          "output_type": "stream",
          "name": "stdout",
          "text": [
            "Looking in indexes: https://pypi.org/simple, https://us-python.pkg.dev/colab-wheels/public/simple/, https://pypi.nvidia.com\n",
            "Collecting cuml-cu11\n",
            "  Using cached https://pypi.nvidia.com/cuml-cu11/cuml_cu11-23.2.0-cp38-cp38-manylinux_2_17_x86_64.manylinux2014_x86_64.whl (1586.5 MB)\n",
            "Requirement already satisfied: cudf-cu11==23.2.* in /usr/local/lib/python3.8/dist-packages (from cuml-cu11) (23.2.0)\n",
            "Requirement already satisfied: scipy in /usr/local/lib/python3.8/dist-packages (from cuml-cu11) (1.7.3)\n",
            "Requirement already satisfied: numba in /usr/local/lib/python3.8/dist-packages (from cuml-cu11) (0.56.4)\n",
            "Collecting pylibraft-cu11==23.2.*\n",
            "  Downloading https://pypi.nvidia.com/pylibraft-cu11/pylibraft_cu11-23.2.0-cp38-cp38-manylinux_2_17_x86_64.manylinux2014_x86_64.whl (1015.5 MB)\n",
            "\u001b[2K     \u001b[90m━━━━━━━━━━━━━━━━━━━━━━━━━━━━━━━━━━━━━━━━\u001b[0m \u001b[32m1.0/1.0 GB\u001b[0m \u001b[31m1.6 MB/s\u001b[0m eta \u001b[36m0:00:00\u001b[0m\n",
            "\u001b[?25hRequirement already satisfied: dask-cudf-cu11==23.2.* in /usr/local/lib/python3.8/dist-packages (from cuml-cu11) (23.2.0)\n",
            "Requirement already satisfied: seaborn in /usr/local/lib/python3.8/dist-packages (from cuml-cu11) (0.11.2)\n",
            "Collecting raft-dask-cu11==23.2.*\n",
            "  Using cached https://pypi.nvidia.com/raft-dask-cu11/raft_dask_cu11-23.2.0-cp38-cp38-manylinux_2_17_x86_64.manylinux2014_x86_64.whl (215.1 MB)\n",
            "Collecting treelite==3.1.0\n",
            "  Using cached treelite-3.1.0-py3-none-manylinux2014_x86_64.whl (873 kB)\n",
            "Collecting treelite-runtime==3.1.0\n",
            "  Using cached treelite_runtime-3.1.0-py3-none-manylinux2014_x86_64.whl (191 kB)\n",
            "Requirement already satisfied: protobuf==4.21 in /usr/local/lib/python3.8/dist-packages (from cudf-cu11==23.2.*->cuml-cu11) (4.21.0)\n",
            "Requirement already satisfied: typing-extensions in /usr/local/lib/python3.8/dist-packages (from cudf-cu11==23.2.*->cuml-cu11) (4.5.0)\n",
            "Requirement already satisfied: ptxcompiler-cu11 in /usr/local/lib/python3.8/dist-packages (from cudf-cu11==23.2.*->cuml-cu11) (0.7.0.post1)\n",
            "Requirement already satisfied: cachetools in /usr/local/lib/python3.8/dist-packages (from cudf-cu11==23.2.*->cuml-cu11) (5.3.0)\n",
            "Requirement already satisfied: numpy in /usr/local/lib/python3.8/dist-packages (from cudf-cu11==23.2.*->cuml-cu11) (1.22.4)\n",
            "Requirement already satisfied: pyarrow==10 in /usr/local/lib/python3.8/dist-packages (from cudf-cu11==23.2.*->cuml-cu11) (10.0.0)\n",
            "Requirement already satisfied: packaging in /usr/local/lib/python3.8/dist-packages (from cudf-cu11==23.2.*->cuml-cu11) (23.0)\n",
            "Requirement already satisfied: nvtx>=0.2.1 in /usr/local/lib/python3.8/dist-packages (from cudf-cu11==23.2.*->cuml-cu11) (0.2.5)\n",
            "Requirement already satisfied: rmm-cu11==23.2.* in /usr/local/lib/python3.8/dist-packages (from cudf-cu11==23.2.*->cuml-cu11) (23.2.0)\n",
            "Requirement already satisfied: cuda-python<12.0,>=11.7.1 in /usr/local/lib/python3.8/dist-packages (from cudf-cu11==23.2.*->cuml-cu11) (11.8.1)\n",
            "Requirement already satisfied: cupy-cuda11x in /usr/local/lib/python3.8/dist-packages (from cudf-cu11==23.2.*->cuml-cu11) (11.0.0)\n",
            "Requirement already satisfied: cubinlinker-cu11 in /usr/local/lib/python3.8/dist-packages (from cudf-cu11==23.2.*->cuml-cu11) (0.3.0.post1)\n",
            "Requirement already satisfied: pandas<1.6.0dev0,>=1.0 in /usr/local/lib/python3.8/dist-packages (from cudf-cu11==23.2.*->cuml-cu11) (1.3.5)\n",
            "Requirement already satisfied: fsspec>=0.6.0 in /usr/local/lib/python3.8/dist-packages (from cudf-cu11==23.2.*->cuml-cu11) (2023.1.0)\n",
            "Requirement already satisfied: dask==2023.1.1 in /usr/local/lib/python3.8/dist-packages (from dask-cudf-cu11==23.2.*->cuml-cu11) (2023.1.1)\n",
            "Requirement already satisfied: distributed==2023.1.1 in /usr/local/lib/python3.8/dist-packages (from dask-cudf-cu11==23.2.*->cuml-cu11) (2023.1.1)\n",
            "Collecting dask-cuda==23.2.*\n",
            "  Downloading dask_cuda-23.2.1-py3-none-any.whl (240 kB)\n",
            "\u001b[2K     \u001b[90m━━━━━━━━━━━━━━━━━━━━━━━━━━━━━━━━━━━━━━━\u001b[0m \u001b[32m240.2/240.2 KB\u001b[0m \u001b[31m6.2 MB/s\u001b[0m eta \u001b[36m0:00:00\u001b[0m\n",
            "\u001b[?25hRequirement already satisfied: joblib>=0.11 in /usr/local/lib/python3.8/dist-packages (from raft-dask-cu11==23.2.*->cuml-cu11) (1.2.0)\n",
            "Collecting ucx-py-cu11==0.30.*\n",
            "  Downloading https://pypi.nvidia.com/ucx-py-cu11/ucx_py_cu11-0.30.0-cp38-cp38-manylinux_2_17_x86_64.manylinux2014_x86_64.whl (8.4 MB)\n",
            "\u001b[2K     \u001b[90m━━━━━━━━━━━━━━━━━━━━━━━━━━━━━━━━━━━━━━━━\u001b[0m \u001b[32m8.4/8.4 MB\u001b[0m \u001b[31m102.3 MB/s\u001b[0m eta \u001b[36m0:00:00\u001b[0m\n",
            "\u001b[?25hRequirement already satisfied: cloudpickle>=1.1.1 in /usr/local/lib/python3.8/dist-packages (from dask==2023.1.1->dask-cudf-cu11==23.2.*->cuml-cu11) (2.2.1)\n",
            "Requirement already satisfied: partd>=0.3.10 in /usr/local/lib/python3.8/dist-packages (from dask==2023.1.1->dask-cudf-cu11==23.2.*->cuml-cu11) (1.3.0)\n",
            "Requirement already satisfied: pyyaml>=5.3.1 in /usr/local/lib/python3.8/dist-packages (from dask==2023.1.1->dask-cudf-cu11==23.2.*->cuml-cu11) (6.0)\n",
            "Requirement already satisfied: click>=7.0 in /usr/local/lib/python3.8/dist-packages (from dask==2023.1.1->dask-cudf-cu11==23.2.*->cuml-cu11) (8.1.3)\n",
            "Requirement already satisfied: toolz>=0.8.2 in /usr/local/lib/python3.8/dist-packages (from dask==2023.1.1->dask-cudf-cu11==23.2.*->cuml-cu11) (0.12.0)\n",
            "Requirement already satisfied: zict>=0.1.3 in /usr/local/lib/python3.8/dist-packages (from dask-cuda==23.2.*->raft-dask-cu11==23.2.*->cuml-cu11) (2.2.0)\n",
            "Collecting pynvml<11.5,>=11.0.0\n",
            "  Downloading pynvml-11.4.1-py3-none-any.whl (46 kB)\n",
            "\u001b[2K     \u001b[90m━━━━━━━━━━━━━━━━━━━━━━━━━━━━━━━━━━━━━━━━\u001b[0m \u001b[32m47.0/47.0 KB\u001b[0m \u001b[31m6.4 MB/s\u001b[0m eta \u001b[36m0:00:00\u001b[0m\n",
            "\u001b[?25hRequirement already satisfied: msgpack>=1.0.0 in /usr/local/lib/python3.8/dist-packages (from distributed==2023.1.1->dask-cudf-cu11==23.2.*->cuml-cu11) (1.0.4)\n",
            "Requirement already satisfied: sortedcontainers>=2.0.5 in /usr/local/lib/python3.8/dist-packages (from distributed==2023.1.1->dask-cudf-cu11==23.2.*->cuml-cu11) (2.4.0)\n",
            "Requirement already satisfied: urllib3>=1.24.3 in /usr/local/lib/python3.8/dist-packages (from distributed==2023.1.1->dask-cudf-cu11==23.2.*->cuml-cu11) (1.26.14)\n",
            "Requirement already satisfied: psutil>=5.7.0 in /usr/local/lib/python3.8/dist-packages (from distributed==2023.1.1->dask-cudf-cu11==23.2.*->cuml-cu11) (5.9.4)\n",
            "Requirement already satisfied: locket>=1.0.0 in /usr/local/lib/python3.8/dist-packages (from distributed==2023.1.1->dask-cudf-cu11==23.2.*->cuml-cu11) (1.0.0)\n",
            "Requirement already satisfied: tblib>=1.6.0 in /usr/local/lib/python3.8/dist-packages (from distributed==2023.1.1->dask-cudf-cu11==23.2.*->cuml-cu11) (1.7.0)\n",
            "Requirement already satisfied: tornado>=6.0.3 in /usr/local/lib/python3.8/dist-packages (from distributed==2023.1.1->dask-cudf-cu11==23.2.*->cuml-cu11) (6.2)\n",
            "Requirement already satisfied: jinja2>=2.10.3 in /usr/local/lib/python3.8/dist-packages (from distributed==2023.1.1->dask-cudf-cu11==23.2.*->cuml-cu11) (3.1.2)\n",
            "Requirement already satisfied: llvmlite<0.40,>=0.39.0dev0 in /usr/local/lib/python3.8/dist-packages (from numba->cuml-cu11) (0.39.1)\n",
            "Requirement already satisfied: setuptools in /usr/local/lib/python3.8/dist-packages (from numba->cuml-cu11) (57.4.0)\n",
            "Requirement already satisfied: importlib-metadata in /usr/local/lib/python3.8/dist-packages (from numba->cuml-cu11) (6.0.0)\n",
            "Requirement already satisfied: matplotlib>=2.2 in /usr/local/lib/python3.8/dist-packages (from seaborn->cuml-cu11) (3.5.3)\n",
            "Requirement already satisfied: cython in /usr/local/lib/python3.8/dist-packages (from cuda-python<12.0,>=11.7.1->cudf-cu11==23.2.*->cuml-cu11) (0.29.33)\n",
            "Requirement already satisfied: pyparsing>=2.2.1 in /usr/local/lib/python3.8/dist-packages (from matplotlib>=2.2->seaborn->cuml-cu11) (3.0.9)\n",
            "Requirement already satisfied: cycler>=0.10 in /usr/local/lib/python3.8/dist-packages (from matplotlib>=2.2->seaborn->cuml-cu11) (0.11.0)\n",
            "Requirement already satisfied: python-dateutil>=2.7 in /usr/local/lib/python3.8/dist-packages (from matplotlib>=2.2->seaborn->cuml-cu11) (2.8.2)\n",
            "Requirement already satisfied: kiwisolver>=1.0.1 in /usr/local/lib/python3.8/dist-packages (from matplotlib>=2.2->seaborn->cuml-cu11) (1.4.4)\n",
            "Requirement already satisfied: pillow>=6.2.0 in /usr/local/lib/python3.8/dist-packages (from matplotlib>=2.2->seaborn->cuml-cu11) (8.4.0)\n",
            "Requirement already satisfied: fonttools>=4.22.0 in /usr/local/lib/python3.8/dist-packages (from matplotlib>=2.2->seaborn->cuml-cu11) (4.38.0)\n",
            "Requirement already satisfied: pytz>=2017.3 in /usr/local/lib/python3.8/dist-packages (from pandas<1.6.0dev0,>=1.0->cudf-cu11==23.2.*->cuml-cu11) (2022.7.1)\n",
            "Requirement already satisfied: fastrlock>=0.5 in /usr/local/lib/python3.8/dist-packages (from cupy-cuda11x->cudf-cu11==23.2.*->cuml-cu11) (0.8.1)\n",
            "Requirement already satisfied: zipp>=0.5 in /usr/local/lib/python3.8/dist-packages (from importlib-metadata->numba->cuml-cu11) (3.15.0)\n",
            "Requirement already satisfied: MarkupSafe>=2.0 in /usr/local/lib/python3.8/dist-packages (from jinja2>=2.10.3->distributed==2023.1.1->dask-cudf-cu11==23.2.*->cuml-cu11) (2.1.2)\n",
            "Requirement already satisfied: six>=1.5 in /usr/local/lib/python3.8/dist-packages (from python-dateutil>=2.7->matplotlib>=2.2->seaborn->cuml-cu11) (1.15.0)\n",
            "Requirement already satisfied: heapdict in /usr/local/lib/python3.8/dist-packages (from zict>=0.1.3->dask-cuda==23.2.*->raft-dask-cu11==23.2.*->cuml-cu11) (1.0.1)\n",
            "Installing collected packages: pynvml, ucx-py-cu11, treelite-runtime, treelite, pylibraft-cu11, dask-cuda, raft-dask-cu11, cuml-cu11\n",
            "Successfully installed cuml-cu11-23.2.0 dask-cuda-23.2.1 pylibraft-cu11-23.2.0 pynvml-11.4.1 raft-dask-cu11-23.2.0 treelite-3.1.0 treelite-runtime-3.1.0 ucx-py-cu11-0.30.0\n"
          ]
        }
      ]
    },
    {
      "cell_type": "code",
      "source": [
        "!pip install cugraph-cu11 --extra-index-url=https://pypi.nvidia.com "
      ],
      "metadata": {
        "colab": {
          "base_uri": "https://localhost:8080/"
        },
        "id": "GnQ9Sc0BpBhk",
        "outputId": "22fb628d-b1f4-4b88-92d4-19a115020758"
      },
      "execution_count": 3,
      "outputs": [
        {
          "output_type": "stream",
          "name": "stdout",
          "text": [
            "Looking in indexes: https://pypi.org/simple, https://us-python.pkg.dev/colab-wheels/public/simple/, https://pypi.nvidia.com\n",
            "Collecting cugraph-cu11\n",
            "  Downloading https://pypi.nvidia.com/cugraph-cu11/cugraph_cu11-23.2.0-cp38-cp38-manylinux_2_17_x86_64.manylinux2014_x86_64.whl (1246.1 MB)\n",
            "\u001b[2K     \u001b[90m━━━━━━━━━━━━━━━━━━━━━━━━━━━━━━━━━━━━━━━━\u001b[0m \u001b[32m1.2/1.2 GB\u001b[0m \u001b[31m1.4 MB/s\u001b[0m eta \u001b[36m0:00:00\u001b[0m\n",
            "\u001b[?25hRequirement already satisfied: raft-dask-cu11==23.2.* in /usr/local/lib/python3.8/dist-packages (from cugraph-cu11) (23.2.0)\n",
            "Requirement already satisfied: dask-cuda in /usr/local/lib/python3.8/dist-packages (from cugraph-cu11) (23.2.1)\n",
            "Requirement already satisfied: dask-cudf-cu11==23.2.* in /usr/local/lib/python3.8/dist-packages (from cugraph-cu11) (23.2.0)\n",
            "Requirement already satisfied: rmm-cu11==23.2.* in /usr/local/lib/python3.8/dist-packages (from cugraph-cu11) (23.2.0)\n",
            "Requirement already satisfied: cupy-cuda11x in /usr/local/lib/python3.8/dist-packages (from cugraph-cu11) (11.0.0)\n",
            "Collecting pylibcugraph-cu11==23.2.*\n",
            "  Downloading https://pypi.nvidia.com/pylibcugraph-cu11/pylibcugraph_cu11-23.2.0-cp38-cp38-manylinux_2_17_x86_64.manylinux2014_x86_64.whl (1242.2 MB)\n",
            "\u001b[2K     \u001b[90m━━━━━━━━━━━━━━━━━━━━━━━━━━━━━━━━━━━━━━━━\u001b[0m \u001b[32m1.2/1.2 GB\u001b[0m \u001b[31m1.4 MB/s\u001b[0m eta \u001b[36m0:00:00\u001b[0m\n",
            "\u001b[?25hRequirement already satisfied: numba in /usr/local/lib/python3.8/dist-packages (from cugraph-cu11) (0.56.4)\n",
            "Requirement already satisfied: cudf-cu11==23.2.* in /usr/local/lib/python3.8/dist-packages (from cugraph-cu11) (23.2.0)\n",
            "Requirement already satisfied: typing-extensions in /usr/local/lib/python3.8/dist-packages (from cudf-cu11==23.2.*->cugraph-cu11) (4.5.0)\n",
            "Requirement already satisfied: numpy in /usr/local/lib/python3.8/dist-packages (from cudf-cu11==23.2.*->cugraph-cu11) (1.22.4)\n",
            "Requirement already satisfied: pyarrow==10 in /usr/local/lib/python3.8/dist-packages (from cudf-cu11==23.2.*->cugraph-cu11) (10.0.0)\n",
            "Requirement already satisfied: pandas<1.6.0dev0,>=1.0 in /usr/local/lib/python3.8/dist-packages (from cudf-cu11==23.2.*->cugraph-cu11) (1.3.5)\n",
            "Requirement already satisfied: cachetools in /usr/local/lib/python3.8/dist-packages (from cudf-cu11==23.2.*->cugraph-cu11) (5.3.0)\n",
            "Requirement already satisfied: cuda-python<12.0,>=11.7.1 in /usr/local/lib/python3.8/dist-packages (from cudf-cu11==23.2.*->cugraph-cu11) (11.8.1)\n",
            "Requirement already satisfied: ptxcompiler-cu11 in /usr/local/lib/python3.8/dist-packages (from cudf-cu11==23.2.*->cugraph-cu11) (0.7.0.post1)\n",
            "Requirement already satisfied: cubinlinker-cu11 in /usr/local/lib/python3.8/dist-packages (from cudf-cu11==23.2.*->cugraph-cu11) (0.3.0.post1)\n",
            "Requirement already satisfied: packaging in /usr/local/lib/python3.8/dist-packages (from cudf-cu11==23.2.*->cugraph-cu11) (23.0)\n",
            "Requirement already satisfied: protobuf==4.21 in /usr/local/lib/python3.8/dist-packages (from cudf-cu11==23.2.*->cugraph-cu11) (4.21.0)\n",
            "Requirement already satisfied: nvtx>=0.2.1 in /usr/local/lib/python3.8/dist-packages (from cudf-cu11==23.2.*->cugraph-cu11) (0.2.5)\n",
            "Requirement already satisfied: fsspec>=0.6.0 in /usr/local/lib/python3.8/dist-packages (from cudf-cu11==23.2.*->cugraph-cu11) (2023.1.0)\n",
            "Requirement already satisfied: dask==2023.1.1 in /usr/local/lib/python3.8/dist-packages (from dask-cudf-cu11==23.2.*->cugraph-cu11) (2023.1.1)\n",
            "Requirement already satisfied: distributed==2023.1.1 in /usr/local/lib/python3.8/dist-packages (from dask-cudf-cu11==23.2.*->cugraph-cu11) (2023.1.1)\n",
            "Requirement already satisfied: pylibraft-cu11==23.2.* in /usr/local/lib/python3.8/dist-packages (from pylibcugraph-cu11==23.2.*->cugraph-cu11) (23.2.0)\n",
            "Requirement already satisfied: ucx-py-cu11==0.30.* in /usr/local/lib/python3.8/dist-packages (from raft-dask-cu11==23.2.*->cugraph-cu11) (0.30.0)\n",
            "Requirement already satisfied: joblib>=0.11 in /usr/local/lib/python3.8/dist-packages (from raft-dask-cu11==23.2.*->cugraph-cu11) (1.2.0)\n",
            "Requirement already satisfied: zict>=0.1.3 in /usr/local/lib/python3.8/dist-packages (from dask-cuda->cugraph-cu11) (2.2.0)\n",
            "Requirement already satisfied: pynvml<11.5,>=11.0.0 in /usr/local/lib/python3.8/dist-packages (from dask-cuda->cugraph-cu11) (11.4.1)\n",
            "Requirement already satisfied: cloudpickle>=1.1.1 in /usr/local/lib/python3.8/dist-packages (from dask==2023.1.1->dask-cudf-cu11==23.2.*->cugraph-cu11) (2.2.1)\n",
            "Requirement already satisfied: pyyaml>=5.3.1 in /usr/local/lib/python3.8/dist-packages (from dask==2023.1.1->dask-cudf-cu11==23.2.*->cugraph-cu11) (6.0)\n",
            "Requirement already satisfied: click>=7.0 in /usr/local/lib/python3.8/dist-packages (from dask==2023.1.1->dask-cudf-cu11==23.2.*->cugraph-cu11) (8.1.3)\n",
            "Requirement already satisfied: toolz>=0.8.2 in /usr/local/lib/python3.8/dist-packages (from dask==2023.1.1->dask-cudf-cu11==23.2.*->cugraph-cu11) (0.12.0)\n",
            "Requirement already satisfied: partd>=0.3.10 in /usr/local/lib/python3.8/dist-packages (from dask==2023.1.1->dask-cudf-cu11==23.2.*->cugraph-cu11) (1.3.0)\n",
            "Requirement already satisfied: urllib3>=1.24.3 in /usr/local/lib/python3.8/dist-packages (from distributed==2023.1.1->dask-cudf-cu11==23.2.*->cugraph-cu11) (1.26.14)\n",
            "Requirement already satisfied: msgpack>=1.0.0 in /usr/local/lib/python3.8/dist-packages (from distributed==2023.1.1->dask-cudf-cu11==23.2.*->cugraph-cu11) (1.0.4)\n",
            "Requirement already satisfied: psutil>=5.7.0 in /usr/local/lib/python3.8/dist-packages (from distributed==2023.1.1->dask-cudf-cu11==23.2.*->cugraph-cu11) (5.9.4)\n",
            "Requirement already satisfied: locket>=1.0.0 in /usr/local/lib/python3.8/dist-packages (from distributed==2023.1.1->dask-cudf-cu11==23.2.*->cugraph-cu11) (1.0.0)\n",
            "Requirement already satisfied: sortedcontainers>=2.0.5 in /usr/local/lib/python3.8/dist-packages (from distributed==2023.1.1->dask-cudf-cu11==23.2.*->cugraph-cu11) (2.4.0)\n",
            "Requirement already satisfied: tblib>=1.6.0 in /usr/local/lib/python3.8/dist-packages (from distributed==2023.1.1->dask-cudf-cu11==23.2.*->cugraph-cu11) (1.7.0)\n",
            "Requirement already satisfied: tornado>=6.0.3 in /usr/local/lib/python3.8/dist-packages (from distributed==2023.1.1->dask-cudf-cu11==23.2.*->cugraph-cu11) (6.2)\n",
            "Requirement already satisfied: jinja2>=2.10.3 in /usr/local/lib/python3.8/dist-packages (from distributed==2023.1.1->dask-cudf-cu11==23.2.*->cugraph-cu11) (3.1.2)\n",
            "Requirement already satisfied: importlib-metadata in /usr/local/lib/python3.8/dist-packages (from numba->cugraph-cu11) (6.0.0)\n",
            "Requirement already satisfied: llvmlite<0.40,>=0.39.0dev0 in /usr/local/lib/python3.8/dist-packages (from numba->cugraph-cu11) (0.39.1)\n",
            "Requirement already satisfied: setuptools in /usr/local/lib/python3.8/dist-packages (from numba->cugraph-cu11) (57.4.0)\n",
            "Requirement already satisfied: fastrlock>=0.5 in /usr/local/lib/python3.8/dist-packages (from cupy-cuda11x->cugraph-cu11) (0.8.1)\n",
            "Requirement already satisfied: cython in /usr/local/lib/python3.8/dist-packages (from cuda-python<12.0,>=11.7.1->cudf-cu11==23.2.*->cugraph-cu11) (0.29.33)\n",
            "Requirement already satisfied: pytz>=2017.3 in /usr/local/lib/python3.8/dist-packages (from pandas<1.6.0dev0,>=1.0->cudf-cu11==23.2.*->cugraph-cu11) (2022.7.1)\n",
            "Requirement already satisfied: python-dateutil>=2.7.3 in /usr/local/lib/python3.8/dist-packages (from pandas<1.6.0dev0,>=1.0->cudf-cu11==23.2.*->cugraph-cu11) (2.8.2)\n",
            "Requirement already satisfied: heapdict in /usr/local/lib/python3.8/dist-packages (from zict>=0.1.3->dask-cuda->cugraph-cu11) (1.0.1)\n",
            "Requirement already satisfied: zipp>=0.5 in /usr/local/lib/python3.8/dist-packages (from importlib-metadata->numba->cugraph-cu11) (3.15.0)\n",
            "Requirement already satisfied: MarkupSafe>=2.0 in /usr/local/lib/python3.8/dist-packages (from jinja2>=2.10.3->distributed==2023.1.1->dask-cudf-cu11==23.2.*->cugraph-cu11) (2.1.2)\n",
            "Requirement already satisfied: six>=1.5 in /usr/local/lib/python3.8/dist-packages (from python-dateutil>=2.7.3->pandas<1.6.0dev0,>=1.0->cudf-cu11==23.2.*->cugraph-cu11) (1.15.0)\n",
            "Installing collected packages: pylibcugraph-cu11, cugraph-cu11\n",
            "Successfully installed cugraph-cu11-23.2.0 pylibcugraph-cu11-23.2.0\n"
          ]
        }
      ]
    },
    {
      "cell_type": "code",
      "source": [
        "import pandas as pd\n",
        "import numpy as np\n",
        "from sklearn.ensemble import RandomForestClassifier\n",
        "from sklearn.metrics import accuracy_score\n",
        "df = pd.read_csv(\"/content/Book1.csv\")"
      ],
      "metadata": {
        "id": "4uaILYkorMKE"
      },
      "execution_count": 54,
      "outputs": []
    },
    {
      "cell_type": "code",
      "source": [
        "df.head(15)"
      ],
      "metadata": {
        "colab": {
          "base_uri": "https://localhost:8080/",
          "height": 519
        },
        "id": "g7Sc9RkAr3Jt",
        "outputId": "3f634ebf-a92a-4c9f-d7f1-d7d77016b236"
      },
      "execution_count": 55,
      "outputs": [
        {
          "output_type": "execute_result",
          "data": {
            "text/plain": [
              "    SIZE      FUEL  DISTANCE  DESIBEL  AIRFLOW  FREQUENCY  STATUS\n",
              "0      1  gasoline        10       96      0.0         75       0\n",
              "1      1  gasoline        10       96      0.0         72       1\n",
              "2      1  gasoline        10       96      2.6         70       1\n",
              "3      1  gasoline        10       96      3.2         68       1\n",
              "4      1  gasoline        10      109      4.5         67       1\n",
              "5      1  gasoline        10      109      7.8         66       1\n",
              "6      1  gasoline        10      103      9.7         65       1\n",
              "7      1  gasoline        10       95     12.0         60       1\n",
              "8      1  gasoline        10      102     13.3         55       1\n",
              "9      1  gasoline        10       93     15.4         52       1\n",
              "10     1  gasoline        10       93     15.1         51       1\n",
              "11     1  gasoline        10       95     15.2         50       1\n",
              "12     1  gasoline        10      110     15.4         48       1\n",
              "13     1  gasoline        10      111     15.2         47       1\n",
              "14     1  gasoline        10      109     15.4         46       1"
            ],
            "text/html": [
              "\n",
              "  <div id=\"df-1ed5e112-40fb-4a5c-9835-e46c2d4128cd\">\n",
              "    <div class=\"colab-df-container\">\n",
              "      <div>\n",
              "<style scoped>\n",
              "    .dataframe tbody tr th:only-of-type {\n",
              "        vertical-align: middle;\n",
              "    }\n",
              "\n",
              "    .dataframe tbody tr th {\n",
              "        vertical-align: top;\n",
              "    }\n",
              "\n",
              "    .dataframe thead th {\n",
              "        text-align: right;\n",
              "    }\n",
              "</style>\n",
              "<table border=\"1\" class=\"dataframe\">\n",
              "  <thead>\n",
              "    <tr style=\"text-align: right;\">\n",
              "      <th></th>\n",
              "      <th>SIZE</th>\n",
              "      <th>FUEL</th>\n",
              "      <th>DISTANCE</th>\n",
              "      <th>DESIBEL</th>\n",
              "      <th>AIRFLOW</th>\n",
              "      <th>FREQUENCY</th>\n",
              "      <th>STATUS</th>\n",
              "    </tr>\n",
              "  </thead>\n",
              "  <tbody>\n",
              "    <tr>\n",
              "      <th>0</th>\n",
              "      <td>1</td>\n",
              "      <td>gasoline</td>\n",
              "      <td>10</td>\n",
              "      <td>96</td>\n",
              "      <td>0.0</td>\n",
              "      <td>75</td>\n",
              "      <td>0</td>\n",
              "    </tr>\n",
              "    <tr>\n",
              "      <th>1</th>\n",
              "      <td>1</td>\n",
              "      <td>gasoline</td>\n",
              "      <td>10</td>\n",
              "      <td>96</td>\n",
              "      <td>0.0</td>\n",
              "      <td>72</td>\n",
              "      <td>1</td>\n",
              "    </tr>\n",
              "    <tr>\n",
              "      <th>2</th>\n",
              "      <td>1</td>\n",
              "      <td>gasoline</td>\n",
              "      <td>10</td>\n",
              "      <td>96</td>\n",
              "      <td>2.6</td>\n",
              "      <td>70</td>\n",
              "      <td>1</td>\n",
              "    </tr>\n",
              "    <tr>\n",
              "      <th>3</th>\n",
              "      <td>1</td>\n",
              "      <td>gasoline</td>\n",
              "      <td>10</td>\n",
              "      <td>96</td>\n",
              "      <td>3.2</td>\n",
              "      <td>68</td>\n",
              "      <td>1</td>\n",
              "    </tr>\n",
              "    <tr>\n",
              "      <th>4</th>\n",
              "      <td>1</td>\n",
              "      <td>gasoline</td>\n",
              "      <td>10</td>\n",
              "      <td>109</td>\n",
              "      <td>4.5</td>\n",
              "      <td>67</td>\n",
              "      <td>1</td>\n",
              "    </tr>\n",
              "    <tr>\n",
              "      <th>5</th>\n",
              "      <td>1</td>\n",
              "      <td>gasoline</td>\n",
              "      <td>10</td>\n",
              "      <td>109</td>\n",
              "      <td>7.8</td>\n",
              "      <td>66</td>\n",
              "      <td>1</td>\n",
              "    </tr>\n",
              "    <tr>\n",
              "      <th>6</th>\n",
              "      <td>1</td>\n",
              "      <td>gasoline</td>\n",
              "      <td>10</td>\n",
              "      <td>103</td>\n",
              "      <td>9.7</td>\n",
              "      <td>65</td>\n",
              "      <td>1</td>\n",
              "    </tr>\n",
              "    <tr>\n",
              "      <th>7</th>\n",
              "      <td>1</td>\n",
              "      <td>gasoline</td>\n",
              "      <td>10</td>\n",
              "      <td>95</td>\n",
              "      <td>12.0</td>\n",
              "      <td>60</td>\n",
              "      <td>1</td>\n",
              "    </tr>\n",
              "    <tr>\n",
              "      <th>8</th>\n",
              "      <td>1</td>\n",
              "      <td>gasoline</td>\n",
              "      <td>10</td>\n",
              "      <td>102</td>\n",
              "      <td>13.3</td>\n",
              "      <td>55</td>\n",
              "      <td>1</td>\n",
              "    </tr>\n",
              "    <tr>\n",
              "      <th>9</th>\n",
              "      <td>1</td>\n",
              "      <td>gasoline</td>\n",
              "      <td>10</td>\n",
              "      <td>93</td>\n",
              "      <td>15.4</td>\n",
              "      <td>52</td>\n",
              "      <td>1</td>\n",
              "    </tr>\n",
              "    <tr>\n",
              "      <th>10</th>\n",
              "      <td>1</td>\n",
              "      <td>gasoline</td>\n",
              "      <td>10</td>\n",
              "      <td>93</td>\n",
              "      <td>15.1</td>\n",
              "      <td>51</td>\n",
              "      <td>1</td>\n",
              "    </tr>\n",
              "    <tr>\n",
              "      <th>11</th>\n",
              "      <td>1</td>\n",
              "      <td>gasoline</td>\n",
              "      <td>10</td>\n",
              "      <td>95</td>\n",
              "      <td>15.2</td>\n",
              "      <td>50</td>\n",
              "      <td>1</td>\n",
              "    </tr>\n",
              "    <tr>\n",
              "      <th>12</th>\n",
              "      <td>1</td>\n",
              "      <td>gasoline</td>\n",
              "      <td>10</td>\n",
              "      <td>110</td>\n",
              "      <td>15.4</td>\n",
              "      <td>48</td>\n",
              "      <td>1</td>\n",
              "    </tr>\n",
              "    <tr>\n",
              "      <th>13</th>\n",
              "      <td>1</td>\n",
              "      <td>gasoline</td>\n",
              "      <td>10</td>\n",
              "      <td>111</td>\n",
              "      <td>15.2</td>\n",
              "      <td>47</td>\n",
              "      <td>1</td>\n",
              "    </tr>\n",
              "    <tr>\n",
              "      <th>14</th>\n",
              "      <td>1</td>\n",
              "      <td>gasoline</td>\n",
              "      <td>10</td>\n",
              "      <td>109</td>\n",
              "      <td>15.4</td>\n",
              "      <td>46</td>\n",
              "      <td>1</td>\n",
              "    </tr>\n",
              "  </tbody>\n",
              "</table>\n",
              "</div>\n",
              "      <button class=\"colab-df-convert\" onclick=\"convertToInteractive('df-1ed5e112-40fb-4a5c-9835-e46c2d4128cd')\"\n",
              "              title=\"Convert this dataframe to an interactive table.\"\n",
              "              style=\"display:none;\">\n",
              "        \n",
              "  <svg xmlns=\"http://www.w3.org/2000/svg\" height=\"24px\"viewBox=\"0 0 24 24\"\n",
              "       width=\"24px\">\n",
              "    <path d=\"M0 0h24v24H0V0z\" fill=\"none\"/>\n",
              "    <path d=\"M18.56 5.44l.94 2.06.94-2.06 2.06-.94-2.06-.94-.94-2.06-.94 2.06-2.06.94zm-11 1L8.5 8.5l.94-2.06 2.06-.94-2.06-.94L8.5 2.5l-.94 2.06-2.06.94zm10 10l.94 2.06.94-2.06 2.06-.94-2.06-.94-.94-2.06-.94 2.06-2.06.94z\"/><path d=\"M17.41 7.96l-1.37-1.37c-.4-.4-.92-.59-1.43-.59-.52 0-1.04.2-1.43.59L10.3 9.45l-7.72 7.72c-.78.78-.78 2.05 0 2.83L4 21.41c.39.39.9.59 1.41.59.51 0 1.02-.2 1.41-.59l7.78-7.78 2.81-2.81c.8-.78.8-2.07 0-2.86zM5.41 20L4 18.59l7.72-7.72 1.47 1.35L5.41 20z\"/>\n",
              "  </svg>\n",
              "      </button>\n",
              "      \n",
              "  <style>\n",
              "    .colab-df-container {\n",
              "      display:flex;\n",
              "      flex-wrap:wrap;\n",
              "      gap: 12px;\n",
              "    }\n",
              "\n",
              "    .colab-df-convert {\n",
              "      background-color: #E8F0FE;\n",
              "      border: none;\n",
              "      border-radius: 50%;\n",
              "      cursor: pointer;\n",
              "      display: none;\n",
              "      fill: #1967D2;\n",
              "      height: 32px;\n",
              "      padding: 0 0 0 0;\n",
              "      width: 32px;\n",
              "    }\n",
              "\n",
              "    .colab-df-convert:hover {\n",
              "      background-color: #E2EBFA;\n",
              "      box-shadow: 0px 1px 2px rgba(60, 64, 67, 0.3), 0px 1px 3px 1px rgba(60, 64, 67, 0.15);\n",
              "      fill: #174EA6;\n",
              "    }\n",
              "\n",
              "    [theme=dark] .colab-df-convert {\n",
              "      background-color: #3B4455;\n",
              "      fill: #D2E3FC;\n",
              "    }\n",
              "\n",
              "    [theme=dark] .colab-df-convert:hover {\n",
              "      background-color: #434B5C;\n",
              "      box-shadow: 0px 1px 3px 1px rgba(0, 0, 0, 0.15);\n",
              "      filter: drop-shadow(0px 1px 2px rgba(0, 0, 0, 0.3));\n",
              "      fill: #FFFFFF;\n",
              "    }\n",
              "  </style>\n",
              "\n",
              "      <script>\n",
              "        const buttonEl =\n",
              "          document.querySelector('#df-1ed5e112-40fb-4a5c-9835-e46c2d4128cd button.colab-df-convert');\n",
              "        buttonEl.style.display =\n",
              "          google.colab.kernel.accessAllowed ? 'block' : 'none';\n",
              "\n",
              "        async function convertToInteractive(key) {\n",
              "          const element = document.querySelector('#df-1ed5e112-40fb-4a5c-9835-e46c2d4128cd');\n",
              "          const dataTable =\n",
              "            await google.colab.kernel.invokeFunction('convertToInteractive',\n",
              "                                                     [key], {});\n",
              "          if (!dataTable) return;\n",
              "\n",
              "          const docLinkHtml = 'Like what you see? Visit the ' +\n",
              "            '<a target=\"_blank\" href=https://colab.research.google.com/notebooks/data_table.ipynb>data table notebook</a>'\n",
              "            + ' to learn more about interactive tables.';\n",
              "          element.innerHTML = '';\n",
              "          dataTable['output_type'] = 'display_data';\n",
              "          await google.colab.output.renderOutput(dataTable, element);\n",
              "          const docLink = document.createElement('div');\n",
              "          docLink.innerHTML = docLinkHtml;\n",
              "          element.appendChild(docLink);\n",
              "        }\n",
              "      </script>\n",
              "    </div>\n",
              "  </div>\n",
              "  "
            ]
          },
          "metadata": {},
          "execution_count": 55
        }
      ]
    },
    {
      "cell_type": "code",
      "source": [
        "df.isnull().sum()\n",
        "#test for missing values"
      ],
      "metadata": {
        "colab": {
          "base_uri": "https://localhost:8080/"
        },
        "id": "9Mh5IiwcsUJM",
        "outputId": "a634376c-5f8d-43f9-b31a-3468c32912ac"
      },
      "execution_count": 56,
      "outputs": [
        {
          "output_type": "execute_result",
          "data": {
            "text/plain": [
              "SIZE         0\n",
              "FUEL         0\n",
              "DISTANCE     0\n",
              "DESIBEL      0\n",
              "AIRFLOW      0\n",
              "FREQUENCY    0\n",
              "STATUS       0\n",
              "dtype: int64"
            ]
          },
          "metadata": {},
          "execution_count": 56
        }
      ]
    },
    {
      "cell_type": "code",
      "source": [
        "import matplotlib.pyplot as plt\n"
      ],
      "metadata": {
        "id": "pgPEN6kis8v8"
      },
      "execution_count": 57,
      "outputs": []
    },
    {
      "cell_type": "code",
      "source": [
        "df[\"SIZE\"].value_counts().plot(kind = 'bar')\n",
        "#To visualize the values given by The class size and their number anc compare them"
      ],
      "metadata": {
        "colab": {
          "base_uri": "https://localhost:8080/",
          "height": 279
        },
        "id": "jw5SXxUwvzzJ",
        "outputId": "a6e8c1b0-080e-45dd-cdd6-e5b87eb3876a"
      },
      "execution_count": 58,
      "outputs": [
        {
          "output_type": "execute_result",
          "data": {
            "text/plain": [
              "<AxesSubplot:>"
            ]
          },
          "metadata": {},
          "execution_count": 58
        },
        {
          "output_type": "display_data",
          "data": {
            "text/plain": [
              "<Figure size 432x288 with 1 Axes>"
            ],
            "image/png": "[encoded data removed]"
          },
          "metadata": {
            "needs_background": "light"
          }
        }
      ]
    },
    {
      "cell_type": "code",
      "source": [
        "import seaborn as sns\n",
        "df.info()\n",
        "x = df.iloc[:,:-1]\n",
        "#Extract basic info about the dataset"
      ],
      "metadata": {
        "colab": {
          "base_uri": "https://localhost:8080/"
        },
        "id": "wlmBBRfDtOQ3",
        "outputId": "ebca3099-2332-4aa6-d9ef-5483eeba44f5"
      },
      "execution_count": 94,
      "outputs": [
        {
          "output_type": "stream",
          "name": "stdout",
          "text": [
            "<class 'cudf.core.dataframe.DataFrame'>\n",
            "RangeIndex: 17442 entries, 0 to 17441\n",
            "Data columns (total 7 columns):\n",
            " #   Column     Non-Null Count  Dtype\n",
            "---  ------     --------------  -----\n",
            " 0   SIZE       17442 non-null  int64\n",
            " 1   FUEL       17442 non-null  uint8\n",
            " 2   DISTANCE   17442 non-null  int64\n",
            " 3   DESIBEL    17442 non-null  int64\n",
            " 4   AIRFLOW    17442 non-null  float64\n",
            " 5   FREQUENCY  17442 non-null  int64\n",
            " 6   STATUS     17442 non-null  int64\n",
            "dtypes: float64(1), int64(5), uint8(1)\n",
            "memory usage: 834.6 KB\n"
          ]
        }
      ]
    },
    {
      "cell_type": "code",
      "source": [
        "df.isnull().sum()\n",
        "#to check for the null values"
      ],
      "metadata": {
        "colab": {
          "base_uri": "https://localhost:8080/"
        },
        "id": "mmZdwZM4tdxK",
        "outputId": "2b45c0f0-31f9-41a1-e136-8160bae38fb4"
      },
      "execution_count": 60,
      "outputs": [
        {
          "output_type": "execute_result",
          "data": {
            "text/plain": [
              "SIZE         0\n",
              "FUEL         0\n",
              "DISTANCE     0\n",
              "DESIBEL      0\n",
              "AIRFLOW      0\n",
              "FREQUENCY    0\n",
              "STATUS       0\n",
              "dtype: int64"
            ]
          },
          "metadata": {},
          "execution_count": 60
        }
      ]
    },
    {
      "cell_type": "code",
      "source": [
        "df.corr()\n",
        "#to see the corelation matrix"
      ],
      "metadata": {
        "colab": {
          "base_uri": "https://localhost:8080/",
          "height": 237
        },
        "id": "fLTcU404toR5",
        "outputId": "a110607a-ea2d-4272-d09b-f6558d348d41"
      },
      "execution_count": 61,
      "outputs": [
        {
          "output_type": "execute_result",
          "data": {
            "text/plain": [
              "                   SIZE      DISTANCE       DESIBEL       AIRFLOW  \\\n",
              "SIZE       1.000000e+00 -2.437871e-15 -6.125585e-15  1.677898e-16   \n",
              "DISTANCE  -2.437871e-15  1.000000e+00 -2.385897e-01 -7.074906e-01   \n",
              "DESIBEL   -6.125585e-15 -2.385897e-01  1.000000e+00  3.769153e-01   \n",
              "AIRFLOW    1.677898e-16 -7.074906e-01  3.769153e-01  1.000000e+00   \n",
              "FREQUENCY  9.978281e-17 -2.452947e-17  5.617409e-01 -2.120462e-01   \n",
              "STATUS    -9.694718e-02 -6.440506e-01  2.039698e-01  7.606279e-01   \n",
              "\n",
              "              FREQUENCY    STATUS  \n",
              "SIZE       9.978281e-17 -0.096947  \n",
              "DISTANCE  -2.452947e-17 -0.644051  \n",
              "DESIBEL    5.617409e-01  0.203970  \n",
              "AIRFLOW   -2.120462e-01  0.760628  \n",
              "FREQUENCY  1.000000e+00 -0.244203  \n",
              "STATUS    -2.442030e-01  1.000000  "
            ],
            "text/html": [
              "\n",
              "  <div id=\"df-993cd981-10a0-4f6f-994f-c1f3f8916d11\">\n",
              "    <div class=\"colab-df-container\">\n",
              "      <div>\n",
              "<style scoped>\n",
              "    .dataframe tbody tr th:only-of-type {\n",
              "        vertical-align: middle;\n",
              "    }\n",
              "\n",
              "    .dataframe tbody tr th {\n",
              "        vertical-align: top;\n",
              "    }\n",
              "\n",
              "    .dataframe thead th {\n",
              "        text-align: right;\n",
              "    }\n",
              "</style>\n",
              "<table border=\"1\" class=\"dataframe\">\n",
              "  <thead>\n",
              "    <tr style=\"text-align: right;\">\n",
              "      <th></th>\n",
              "      <th>SIZE</th>\n",
              "      <th>DISTANCE</th>\n",
              "      <th>DESIBEL</th>\n",
              "      <th>AIRFLOW</th>\n",
              "      <th>FREQUENCY</th>\n",
              "      <th>STATUS</th>\n",
              "    </tr>\n",
              "  </thead>\n",
              "  <tbody>\n",
              "    <tr>\n",
              "      <th>SIZE</th>\n",
              "      <td>1.000000e+00</td>\n",
              "      <td>-2.437871e-15</td>\n",
              "      <td>-6.125585e-15</td>\n",
              "      <td>1.677898e-16</td>\n",
              "      <td>9.978281e-17</td>\n",
              "      <td>-0.096947</td>\n",
              "    </tr>\n",
              "    <tr>\n",
              "      <th>DISTANCE</th>\n",
              "      <td>-2.437871e-15</td>\n",
              "      <td>1.000000e+00</td>\n",
              "      <td>-2.385897e-01</td>\n",
              "      <td>-7.074906e-01</td>\n",
              "      <td>-2.452947e-17</td>\n",
              "      <td>-0.644051</td>\n",
              "    </tr>\n",
              "    <tr>\n",
              "      <th>DESIBEL</th>\n",
              "      <td>-6.125585e-15</td>\n",
              "      <td>-2.385897e-01</td>\n",
              "      <td>1.000000e+00</td>\n",
              "      <td>3.769153e-01</td>\n",
              "      <td>5.617409e-01</td>\n",
              "      <td>0.203970</td>\n",
              "    </tr>\n",
              "    <tr>\n",
              "      <th>AIRFLOW</th>\n",
              "      <td>1.677898e-16</td>\n",
              "      <td>-7.074906e-01</td>\n",
              "      <td>3.769153e-01</td>\n",
              "      <td>1.000000e+00</td>\n",
              "      <td>-2.120462e-01</td>\n",
              "      <td>0.760628</td>\n",
              "    </tr>\n",
              "    <tr>\n",
              "      <th>FREQUENCY</th>\n",
              "      <td>9.978281e-17</td>\n",
              "      <td>-2.452947e-17</td>\n",
              "      <td>5.617409e-01</td>\n",
              "      <td>-2.120462e-01</td>\n",
              "      <td>1.000000e+00</td>\n",
              "      <td>-0.244203</td>\n",
              "    </tr>\n",
              "    <tr>\n",
              "      <th>STATUS</th>\n",
              "      <td>-9.694718e-02</td>\n",
              "      <td>-6.440506e-01</td>\n",
              "      <td>2.039698e-01</td>\n",
              "      <td>7.606279e-01</td>\n",
              "      <td>-2.442030e-01</td>\n",
              "      <td>1.000000</td>\n",
              "    </tr>\n",
              "  </tbody>\n",
              "</table>\n",
              "</div>\n",
              "      <button class=\"colab-df-convert\" onclick=\"convertToInteractive('df-993cd981-10a0-4f6f-994f-c1f3f8916d11')\"\n",
              "              title=\"Convert this dataframe to an interactive table.\"\n",
              "              style=\"display:none;\">\n",
              "        \n",
              "  <svg xmlns=\"http://www.w3.org/2000/svg\" height=\"24px\"viewBox=\"0 0 24 24\"\n",
              "       width=\"24px\">\n",
              "    <path d=\"M0 0h24v24H0V0z\" fill=\"none\"/>\n",
              "    <path d=\"M18.56 5.44l.94 2.06.94-2.06 2.06-.94-2.06-.94-.94-2.06-.94 2.06-2.06.94zm-11 1L8.5 8.5l.94-2.06 2.06-.94-2.06-.94L8.5 2.5l-.94 2.06-2.06.94zm10 10l.94 2.06.94-2.06 2.06-.94-2.06-.94-.94-2.06-.94 2.06-2.06.94z\"/><path d=\"M17.41 7.96l-1.37-1.37c-.4-.4-.92-.59-1.43-.59-.52 0-1.04.2-1.43.59L10.3 9.45l-7.72 7.72c-.78.78-.78 2.05 0 2.83L4 21.41c.39.39.9.59 1.41.59.51 0 1.02-.2 1.41-.59l7.78-7.78 2.81-2.81c.8-.78.8-2.07 0-2.86zM5.41 20L4 18.59l7.72-7.72 1.47 1.35L5.41 20z\"/>\n",
              "  </svg>\n",
              "      </button>\n",
              "      \n",
              "  <style>\n",
              "    .colab-df-container {\n",
              "      display:flex;\n",
              "      flex-wrap:wrap;\n",
              "      gap: 12px;\n",
              "    }\n",
              "\n",
              "    .colab-df-convert {\n",
              "      background-color: #E8F0FE;\n",
              "      border: none;\n",
              "      border-radius: 50%;\n",
              "      cursor: pointer;\n",
              "      display: none;\n",
              "      fill: #1967D2;\n",
              "      height: 32px;\n",
              "      padding: 0 0 0 0;\n",
              "      width: 32px;\n",
              "    }\n",
              "\n",
              "    .colab-df-convert:hover {\n",
              "      background-color: #E2EBFA;\n",
              "      box-shadow: 0px 1px 2px rgba(60, 64, 67, 0.3), 0px 1px 3px 1px rgba(60, 64, 67, 0.15);\n",
              "      fill: #174EA6;\n",
              "    }\n",
              "\n",
              "    [theme=dark] .colab-df-convert {\n",
              "      background-color: #3B4455;\n",
              "      fill: #D2E3FC;\n",
              "    }\n",
              "\n",
              "    [theme=dark] .colab-df-convert:hover {\n",
              "      background-color: #434B5C;\n",
              "      box-shadow: 0px 1px 3px 1px rgba(0, 0, 0, 0.15);\n",
              "      filter: drop-shadow(0px 1px 2px rgba(0, 0, 0, 0.3));\n",
              "      fill: #FFFFFF;\n",
              "    }\n",
              "  </style>\n",
              "\n",
              "      <script>\n",
              "        const buttonEl =\n",
              "          document.querySelector('#df-993cd981-10a0-4f6f-994f-c1f3f8916d11 button.colab-df-convert');\n",
              "        buttonEl.style.display =\n",
              "          google.colab.kernel.accessAllowed ? 'block' : 'none';\n",
              "\n",
              "        async function convertToInteractive(key) {\n",
              "          const element = document.querySelector('#df-993cd981-10a0-4f6f-994f-c1f3f8916d11');\n",
              "          const dataTable =\n",
              "            await google.colab.kernel.invokeFunction('convertToInteractive',\n",
              "                                                     [key], {});\n",
              "          if (!dataTable) return;\n",
              "\n",
              "          const docLinkHtml = 'Like what you see? Visit the ' +\n",
              "            '<a target=\"_blank\" href=https://colab.research.google.com/notebooks/data_table.ipynb>data table notebook</a>'\n",
              "            + ' to learn more about interactive tables.';\n",
              "          element.innerHTML = '';\n",
              "          dataTable['output_type'] = 'display_data';\n",
              "          await google.colab.output.renderOutput(dataTable, element);\n",
              "          const docLink = document.createElement('div');\n",
              "          docLink.innerHTML = docLinkHtml;\n",
              "          element.appendChild(docLink);\n",
              "        }\n",
              "      </script>\n",
              "    </div>\n",
              "  </div>\n",
              "  "
            ]
          },
          "metadata": {},
          "execution_count": 61
        }
      ]
    },
    {
      "cell_type": "code",
      "source": [
        "sns.heatmap(df.corr(),linewidths=5)\n",
        "# as nothing can be made up from the matrix above, we generate a heatmap using seaborn"
      ],
      "metadata": {
        "colab": {
          "base_uri": "https://localhost:8080/",
          "height": 337
        },
        "id": "lrAzd8HZt8GY",
        "outputId": "ce337316-d7f7-438e-e623-7c565ae9eb66"
      },
      "execution_count": 62,
      "outputs": [
        {
          "output_type": "execute_result",
          "data": {
            "text/plain": [
              "<AxesSubplot:>"
            ]
          },
          "metadata": {},
          "execution_count": 62
        },
        {
          "output_type": "display_data",
          "data": {
            "text/plain": [
              "<Figure size 432x288 with 2 Axes>"
            ],
            "image/png": "[encoded data removed]"
          },
          "metadata": {
            "needs_background": "light"
          }
        }
      ]
    },
    {
      "cell_type": "markdown",
      "source": [
        "The highest correlation can be observed among airflow and sound(desibel)"
      ],
      "metadata": {
        "id": "Fq7yLzT875kC"
      }
    },
    {
      "cell_type": "code",
      "source": [
        "rf = RandomForestClassifier()\n",
        "from sklearn.preprocessing import LabelEncoder\n",
        "le = LabelEncoder()\n",
        "#using labelencoder to give a value to the classifiction feature which is fuel in our case\n",
        "df[\"FUEL\"] = le.fit_transform(df[\"FUEL\"])"
      ],
      "metadata": {
        "id": "tmNZG6NFuT6F"
      },
      "execution_count": 63,
      "outputs": []
    },
    {
      "cell_type": "code",
      "source": [
        "x = df.iloc[:,:-1]\n",
        "y = df.iloc[:,-1]"
      ],
      "metadata": {
        "id": "15IZ3W5Kuo2a"
      },
      "execution_count": 64,
      "outputs": []
    },
    {
      "cell_type": "code",
      "source": [
        "from sklearn.model_selection import train_test_split\n",
        "#splitting the data for training and testing\n",
        "x_train , x_test , y_train , y_test = train_test_split(x , y , random_state=43 , test_size = 0.25)\n"
      ],
      "metadata": {
        "id": "Vt1xeenkuyRO"
      },
      "execution_count": 65,
      "outputs": []
    },
    {
      "cell_type": "code",
      "source": [
        "start = time.time()\n",
        "rf.fit(x_train,y_train)\n",
        "pred = rf.predict(x_test)\n",
        "accuracy_score(pred,y_test)\n",
        "end = time.time()\n",
        "print(f'time taken for fitting the model {end-start} seconds')\n",
        "#using Time library to calculate time between starting and ending of code execution\n",
        "# This will give is the time taken to fit our model\n",
        "\n"
      ],
      "metadata": {
        "colab": {
          "base_uri": "https://localhost:8080/"
        },
        "id": "SGXK6m0qvIlL",
        "outputId": "4cd10242-f364-4382-be76-5dec3b62c37a"
      },
      "execution_count": 66,
      "outputs": [
        {
          "output_type": "stream",
          "name": "stdout",
          "text": [
            "time taken for fitting the model 0.9481418132781982 seconds\n"
          ]
        }
      ]
    },
    {
      "cell_type": "markdown",
      "source": [
        "Time taken is 0.94 seconds"
      ],
      "metadata": {
        "id": "IjAYLNO23te4"
      }
    },
    {
      "cell_type": "code",
      "source": [
        "from sklearn.metrics import classification_report\n",
        "#classification report for prediction uning sklearn\n",
        "print(classification_report(pred,y_test))"
      ],
      "metadata": {
        "colab": {
          "base_uri": "https://localhost:8080/"
        },
        "id": "oaCIXDCe2Bea",
        "outputId": "3b7ed814-d398-4b1f-eac5-bb9509b315d2"
      },
      "execution_count": 67,
      "outputs": [
        {
          "output_type": "stream",
          "name": "stdout",
          "text": [
            "              precision    recall  f1-score   support\n",
            "\n",
            "           0       0.97      0.96      0.96      2220\n",
            "           1       0.96      0.96      0.96      2141\n",
            "\n",
            "    accuracy                           0.96      4361\n",
            "   macro avg       0.96      0.96      0.96      4361\n",
            "weighted avg       0.96      0.96      0.96      4361\n",
            "\n"
          ]
        }
      ]
    },
    {
      "cell_type": "markdown",
      "source": [
        "Now Using CudaML "
      ],
      "metadata": {
        "id": "rvJkrLLXxjg-"
      }
    },
    {
      "cell_type": "code",
      "source": [
        "import cudf\n"
      ],
      "metadata": {
        "id": "kwD9kIg0xInI"
      },
      "execution_count": 95,
      "outputs": []
    },
    {
      "cell_type": "code",
      "source": [
        "from cuml.ensemble import RandomForestClassifier\n",
        "from cuml.preprocessing import LabelEncoder\n"
      ],
      "metadata": {
        "id": "mUnnPRUxxhhq"
      },
      "execution_count": 96,
      "outputs": []
    },
    {
      "cell_type": "code",
      "source": [
        "df = cudf.read_csv('/content/Book1.csv')\n",
        "df[\"FUEL\"].unique()"
      ],
      "metadata": {
        "colab": {
          "base_uri": "https://localhost:8080/"
        },
        "id": "kCtN8arvxyGG",
        "outputId": "9ae9611c-31d1-440e-99a4-6987c2479f8c"
      },
      "execution_count": 97,
      "outputs": [
        {
          "output_type": "execute_result",
          "data": {
            "text/plain": [
              "0    gasoline\n",
              "1    kerosene\n",
              "2         lpg\n",
              "3     thinner\n",
              "Name: FUEL, dtype: object"
            ]
          },
          "metadata": {},
          "execution_count": 97
        }
      ]
    },
    {
      "cell_type": "code",
      "source": [
        "lb = LabelEncoder()\n",
        "df[\"FUEL\"] = lb.fit_transform(df[\"FUEL\"])\n",
        "df[\"FUEL\"].value_counts()\n",
        "x = df.iloc[:,:-1]\n",
        "y = df.iloc[:,-1]"
      ],
      "metadata": {
        "id": "zERsMWV2x6K9"
      },
      "execution_count": 98,
      "outputs": []
    },
    {
      "cell_type": "code",
      "source": [
        "from cuml.model_selection import train_test_split\n",
        "import time\n",
        "\n",
        "x_trainCUDA, x_testCUDA, y_trainCUDA, y_testCUDA = train_test_split(x,y,test_size = 0.25,random_state = 43)"
      ],
      "metadata": {
        "id": "EFpsjQWHykNM"
      },
      "execution_count": 101,
      "outputs": []
    },
    {
      "cell_type": "code",
      "source": [
        "start = time.time()\n",
        "rc = RandomForestClassifier()\n",
        "rc.fit(x_trainCUDA, y_trainCUDA)\n",
        "pred_CUDA = rc.predict(x_testCUDA)\n",
        "end = time.time()\n",
        "print(f'time taken for fitting the model {end-start} seconds')"
      ],
      "metadata": {
        "colab": {
          "base_uri": "https://localhost:8080/"
        },
        "id": "JFaZ594wyv81",
        "outputId": "df0a5d3d-17ea-4700-a158-c89d45f92f97"
      },
      "execution_count": 102,
      "outputs": [
        {
          "output_type": "stream",
          "name": "stdout",
          "text": [
            "time taken for fitting the model 0.9770562648773193 seconds\n"
          ]
        }
      ]
    },
    {
      "cell_type": "markdown",
      "source": [
        "Time taken is 0.97s"
      ],
      "metadata": {
        "id": "--H6ccoV2ruk"
      }
    },
    {
      "cell_type": "code",
      "source": [
        "from cuml.metrics import accuracy_score\n",
        "accuracy_score(pred_CUDA,y_testCUDA)"
      ],
      "metadata": {
        "colab": {
          "base_uri": "https://localhost:8080/"
        },
        "id": "SKsFsUcEzn2L",
        "outputId": "2d797348-b1fc-4906-866a-b53a5a1e473e"
      },
      "execution_count": 103,
      "outputs": [
        {
          "output_type": "execute_result",
          "data": {
            "text/plain": [
              "0.8924311995506287"
            ]
          },
          "metadata": {},
          "execution_count": 103
        }
      ]
    },
    {
      "cell_type": "code",
      "source": [
        "print(classification_report(pred_CUDA.to_numpy(),y_testCUDA.to_numpy()))"
      ],
      "metadata": {
        "colab": {
          "base_uri": "https://localhost:8080/"
        },
        "id": "jIxW_iNczvw7",
        "outputId": "c1cd3984-1691-4ef8-e87c-37c6e3b1f4f0"
      },
      "execution_count": 105,
      "outputs": [
        {
          "output_type": "stream",
          "name": "stdout",
          "text": [
            "              precision    recall  f1-score   support\n",
            "\n",
            "         0.0       0.89      0.90      0.90      2233\n",
            "         1.0       0.89      0.89      0.89      2127\n",
            "\n",
            "    accuracy                           0.89      4360\n",
            "   macro avg       0.89      0.89      0.89      4360\n",
            "weighted avg       0.89      0.89      0.89      4360\n",
            "\n"
          ]
        }
      ]
    },
    {
      "cell_type": "code",
      "source": [
        "# The time taken is identical i.e 0.94 and 0.97 secs but major differences can be observed using bigger datasets\n",
        "\n",
        "#Accuracy although depends upon the test data is 0.96 and 0.89 respectively"
      ],
      "metadata": {
        "id": "N5Py3kiY7X8d"
      },
      "execution_count": null,
      "outputs": []
    },
    {
      "cell_type": "code",
      "source": [],
      "metadata": {
        "id": "UdXo2UpOz8Zp"
      },
      "execution_count": null,
      "outputs": []
    }
  ]
}